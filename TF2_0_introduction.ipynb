{
  "nbformat": 4,
  "nbformat_minor": 0,
  "metadata": {
    "colab": {
      "name": "TF2.0 introduction.ipynb",
      "provenance": [],
      "authorship_tag": "ABX9TyOUGBPBxFPKN2A/upF223Nl",
      "include_colab_link": true
    },
    "kernelspec": {
      "name": "python3",
      "display_name": "Python 3"
    }
  },
  "cells": [
    {
      "cell_type": "markdown",
      "metadata": {
        "id": "view-in-github",
        "colab_type": "text"
      },
      "source": [
        "<a href=\"https://colab.research.google.com/github/GSelvakumar/ml/blob/main/TF2_0_introduction.ipynb\" target=\"_parent\"><img src=\"https://colab.research.google.com/assets/colab-badge.svg\" alt=\"Open In Colab\"/></a>"
      ]
    },
    {
      "cell_type": "markdown",
      "metadata": {
        "id": "VU3CXM_1g1pu"
      },
      "source": [
        "# Tensorflow\r\n",
        "\r\n",
        "Tensorflow is a open source machine learning platform. It is owned and maintained by google and it is one of the largest open source machine learning libraries in the world.\r\n",
        "\r\n",
        "Tensorflow is used to build models that can do some of the following:\r\n",
        "\r\n",
        "- Image classification\r\n",
        "- Data Clustering\r\n",
        "- Regression\r\n",
        "- Reinforcement learning\r\n",
        "- Natural language Processing"
      ]
    },
    {
      "cell_type": "markdown",
      "metadata": {
        "id": "3ZTnjaB5hdy-"
      },
      "source": [
        "Tensorflow has two main components. They are\r\n",
        "- graph \r\n",
        "- session\r\n",
        "\r\n",
        "TensorFlow works by building a graph of defining"
      ]
    }
  ]
}