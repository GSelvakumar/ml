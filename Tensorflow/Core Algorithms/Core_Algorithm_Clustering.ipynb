{
  "nbformat": 4,
  "nbformat_minor": 0,
  "metadata": {
    "colab": {
      "name": "Core Algorithm - Clustering.ipynb",
      "provenance": []
    },
    "kernelspec": {
      "name": "python3",
      "display_name": "Python 3"
    }
  },
  "cells": [
    {
      "cell_type": "markdown",
      "metadata": {
        "id": "mB7HBSkhvQRJ"
      },
      "source": [
        "# Clustering\r\n",
        "\r\n",
        "Clustering is a Machine Learning technique that involves the grouping of data points. In theory, data points that are in the same group should have similar properties and/or features, while data points in different groups should have highly dissimilar properties and/or features. (https://towardsdatascience.com/the-5-clustering-algorithms-data-scientists-need-to-know-a36d136ef68)\r\n",
        "\r\n",
        "Unfortunalty there are issues with the current version of TensorFlow and the implementation for KMeans. This means we cannot use KMeans without writing the algorithm from scratch. We aren't quite at that level yet, so we'll just explain the basics of clustering for now.\r\n",
        "\r\n",
        "**Basic Algorithm for K-Means**\r\n",
        "\r\n",
        "- Step 1: Randomly pick K points to place K centroids\r\n",
        "- Step 2: Assign all the data points to the centroids by distance. The closest centroid to a point is the one it is assigned to.\r\n",
        "- Step 3: Average all the points belonging to each centroid to find the middle of those clusters (center of mass). Place the corresponding centroids into that position.\r\n",
        "- Step 4: Reassign every point once again to the closest centroid.\r\n",
        "- Step 5: Repeat steps 3-4 until no point changes which centroid it belongs to."
      ]
    }
  ]
}