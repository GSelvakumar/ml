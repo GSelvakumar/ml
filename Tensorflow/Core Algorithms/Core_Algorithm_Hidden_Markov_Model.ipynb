{
  "nbformat": 4,
  "nbformat_minor": 0,
  "metadata": {
    "colab": {
      "name": "Core Algorithm - Hidden Markov Model.ipynb",
      "provenance": []
    },
    "kernelspec": {
      "name": "python3",
      "display_name": "Python 3"
    }
  },
  "cells": [
    {
      "cell_type": "markdown",
      "metadata": {
        "id": "mP1Wzxu54xjj"
      },
      "source": [
        "# Hidden Markov Model\r\n",
        "\r\n",
        "It is used to predict future events based on past events.\r\n",
        "\r\n",
        "\"The Hidden Markov Model is a finite set of states, each of which is associated with a (generally multidimensional) probability distribution []. Transitions among the states are governed by a set of probabilities called transition probabilities.\" (http://jedlik.phy.bme.hu/~gerjanos/HMM/node4.html)\r\n",
        "\r\n",
        "A hidden markov model works with probabilities to predict future events or states. In this section we will learn how to create a hidden markov model that can predict the weather.\r\n",
        "\r\n",
        "*This section is based on the following TensorFlow tutorial.* https://www.tensorflow.org/probability/api_docs/python/tfp/distributions/HiddenMarkovModel\r\n"
      ]
    },
    {
      "cell_type": "markdown",
      "metadata": {
        "id": "6Q3OVJp06E9R"
      },
      "source": [
        "##Data\r\n",
        "\r\n",
        "In the previous models we worked with large datasets of 100's of different entries. For a markov model we are only interested in probability distributions that have to do with states. \r\n",
        "\r\n",
        "**States:** In each markov model we have a finite set of states. These states could be something like \"warm\" and \"cold\" or \"high\" and \"low\" or even \"red\", \"green\" and \"blue\". These states are \"hidden\" within the model, which means we do not direcly observe them.\r\n",
        "\r\n",
        "**Observations:** Each state has a particular outcome or observation associated with it based on a probability distribution. An example of this is the following: *On a hot day Tim has a 80% chance of being happy and a 20% chance of being sad.*\r\n",
        "\r\n",
        "**Transitions:** Each state will have a probability defining the likelyhood of transitioning to a different state. An example is the following: *a cold day has a 30% chance of being followed by a hot day and a 70% chance of being follwed by another cold day.*\r\n",
        "\r\n",
        "To create a hidden markov model we need.\r\n",
        "- States\r\n",
        "- Observation Distribution\r\n",
        "- Transition Distribution\r\n",
        "\r\n",
        "For our purpose we will assume we already have this information available as we attempt to predict the weather on a given day."
      ]
    },
    {
      "cell_type": "markdown",
      "metadata": {
        "id": "WKKaWW0h7vez"
      },
      "source": [
        "## Imports and Setup"
      ]
    },
    {
      "cell_type": "code",
      "metadata": {
        "id": "WB36NKGA4pGG"
      },
      "source": [
        "%tensorflow_version 2.x"
      ],
      "execution_count": 1,
      "outputs": []
    },
    {
      "cell_type": "code",
      "metadata": {
        "colab": {
          "base_uri": "https://localhost:8080/"
        },
        "id": "dVFQucEC8El7",
        "outputId": "59cf738d-9a06-477d-d7a6-df178a442de9"
      },
      "source": [
        "!pip install --upgrade tensorflow-probability"
      ],
      "execution_count": 2,
      "outputs": [
        {
          "output_type": "stream",
          "text": [
            "Collecting tensorflow-probability\n",
            "\u001b[?25l  Downloading https://files.pythonhosted.org/packages/54/4e/c5730f3def2b4c13c632df15622f89dd6c8c019ef1062cd0fe42542d0d4c/tensorflow_probability-0.12.1-py2.py3-none-any.whl (4.8MB)\n",
            "\u001b[K     |████████████████████████████████| 4.8MB 8.2MB/s \n",
            "\u001b[?25hRequirement already satisfied, skipping upgrade: six>=1.10.0 in /usr/local/lib/python3.6/dist-packages (from tensorflow-probability) (1.15.0)\n",
            "Requirement already satisfied, skipping upgrade: decorator in /usr/local/lib/python3.6/dist-packages (from tensorflow-probability) (4.4.2)\n",
            "Requirement already satisfied, skipping upgrade: dm-tree in /usr/local/lib/python3.6/dist-packages (from tensorflow-probability) (0.1.5)\n",
            "Requirement already satisfied, skipping upgrade: cloudpickle>=1.3 in /usr/local/lib/python3.6/dist-packages (from tensorflow-probability) (1.3.0)\n",
            "Requirement already satisfied, skipping upgrade: numpy>=1.13.3 in /usr/local/lib/python3.6/dist-packages (from tensorflow-probability) (1.19.4)\n",
            "Requirement already satisfied, skipping upgrade: gast>=0.3.2 in /usr/local/lib/python3.6/dist-packages (from tensorflow-probability) (0.3.3)\n",
            "Installing collected packages: tensorflow-probability\n",
            "  Found existing installation: tensorflow-probability 0.11.0\n",
            "    Uninstalling tensorflow-probability-0.11.0:\n",
            "      Successfully uninstalled tensorflow-probability-0.11.0\n",
            "Successfully installed tensorflow-probability-0.12.1\n"
          ],
          "name": "stdout"
        }
      ]
    },
    {
      "cell_type": "code",
      "metadata": {
        "id": "tjNOHOZ28PiC"
      },
      "source": [
        "import tensorflow_probability as tfp  \r\n",
        "import tensorflow as tf"
      ],
      "execution_count": 3,
      "outputs": []
    },
    {
      "cell_type": "markdown",
      "metadata": {
        "id": "2QrDOyun8Vi0"
      },
      "source": [
        "##Weather Model\r\n",
        "Taken direclty from the TensorFlow documentation (https://www.tensorflow.org/probability/api_docs/python/tfp/distributions/HiddenMarkovModel). \r\n",
        "\r\n",
        "We will model a simple weather system and try to predict the temperature on each day given the following information.\r\n",
        "1. Cold days are encoded by a 0 and hot days are encoded by a 1.\r\n",
        "2. The first day in our sequence has an 80% chance of being cold.\r\n",
        "3. A cold day has a 30% chance of being followed by a hot day.\r\n",
        "4. A hot day has a 20% chance of being followed by a cold day.\r\n",
        "5. On each day the temperature is\r\n",
        " normally distributed with mean and standard deviation 0 and 5 on\r\n",
        " a cold day and mean and standard deviation 15 and 10 on a hot day.\r\n",
        "\r\n",
        "If you're unfamiliar with **standard deviation** it can be put simply as the range of expected values. \r\n",
        "\r\n",
        "In this example, on a hot day the average temperature is 15 and ranges from 5 to 25.\r\n",
        "\r\n",
        "To model this in TensorFlow we will do the following.\r\n"
      ]
    },
    {
      "cell_type": "code",
      "metadata": {
        "id": "sDLRUIEd-pW6"
      },
      "source": [
        "tfd = tfp.distributions  # making a shortcut for later on\r\n",
        "initial_distribution = tfd.Categorical(probs=[0.2, 0.8])  # Refer to point 2 above\r\n",
        "transition_distribution = tfd.Categorical(probs=[[0.5, 0.5],\r\n",
        "                                                 [0.2, 0.8]])  # refer to points 3 and 4 above\r\n",
        "observation_distribution = tfd.Normal(loc=[0., 15.], scale=[5., 10.])  # refer to point 5 above\r\n",
        "\r\n",
        "# the loc argument represents the mean and the scale is the standard devitation"
      ],
      "execution_count": 4,
      "outputs": []
    },
    {
      "cell_type": "code",
      "metadata": {
        "id": "EgCo9F4S-sch"
      },
      "source": [
        "model = tfd.HiddenMarkovModel(\r\n",
        "    initial_distribution=initial_distribution,\r\n",
        "    transition_distribution=transition_distribution,\r\n",
        "    observation_distribution=observation_distribution,\r\n",
        "    num_steps=7) #num_steps is simply predict for how many no of days"
      ],
      "execution_count": 6,
      "outputs": []
    },
    {
      "cell_type": "markdown",
      "metadata": {
        "id": "sPK6cZWk-9RX"
      },
      "source": [
        "The number of steps represents the number of days that we would like to predict information for. In this case we've chosen 7, an entire week.\r\n",
        "\r\n",
        "To get the **expected temperatures** on each day we can do the following."
      ]
    },
    {
      "cell_type": "code",
      "metadata": {
        "colab": {
          "base_uri": "https://localhost:8080/"
        },
        "id": "LXr3TQj1--GC",
        "outputId": "7b8c7578-5177-4680-c5a8-75c0d8c4bb62"
      },
      "source": [
        "mean = model.mean()\r\n",
        "\r\n",
        "# due to the way TensorFlow works on a lower level we need to evaluate part of the graph\r\n",
        "# from within a session to see the value of this tensor\r\n",
        "\r\n",
        "# in the new version of tensorflow we need to use tf.compat.v1.Session() rather than just tf.Session()\r\n",
        "with tf.compat.v1.Session() as sess:  \r\n",
        "  print(mean.numpy())"
      ],
      "execution_count": 7,
      "outputs": [
        {
          "output_type": "stream",
          "text": [
            "[12.       11.1      10.83     10.748999 10.724699 10.71741  10.715222]\n"
          ],
          "name": "stdout"
        }
      ]
    }
  ]
}