{
  "nbformat": 4,
  "nbformat_minor": 0,
  "metadata": {
    "colab": {
      "name": "Core Algorithm - Classification.ipynb",
      "provenance": []
    },
    "kernelspec": {
      "name": "python3",
      "display_name": "Python 3"
    }
  },
  "cells": [
    {
      "cell_type": "markdown",
      "metadata": {
        "id": "WnjjEUlbG8YL"
      },
      "source": [
        "# Classification\r\n",
        "\r\n",
        "Where regression was used to predict a numeric value, classification is used to seperate data points into classes of different labels. In this example we will use a TensorFlow estimator to classify flowers.\r\n",
        "\r\n",
        "This section is based on the following guide from the TensorFlow website. https://www.tensorflow.org/tutorials/estimator/premade"
      ]
    },
    {
      "cell_type": "markdown",
      "metadata": {
        "id": "_qbxIFhOHPc4"
      },
      "source": [
        "## Import and Setup"
      ]
    },
    {
      "cell_type": "code",
      "metadata": {
        "id": "HIakO6-r5wGl"
      },
      "source": [
        "%tensorflow_version 2.x"
      ],
      "execution_count": 1,
      "outputs": []
    },
    {
      "cell_type": "code",
      "metadata": {
        "id": "OgDInNSfHYx-"
      },
      "source": [
        "from __future__ import absolute_import, division, print_function, unicode_literals\r\n",
        "\r\n",
        "import tensorflow as tf\r\n",
        "import pandas as pd"
      ],
      "execution_count": 2,
      "outputs": []
    },
    {
      "cell_type": "markdown",
      "metadata": {
        "id": "JA9Chn4dHe3D"
      },
      "source": [
        "## Dataset\r\n",
        "\r\n",
        "This specific dataset seperates flowers into 3 different classes of species.\r\n",
        "- Setosa\r\n",
        "- Versicolor\r\n",
        "- Virginica\r\n",
        "\r\n",
        "The information about each flower is the following.\r\n",
        "- sepal length\r\n",
        "- sepal width\r\n",
        "- petal length\r\n",
        "- petal width"
      ]
    },
    {
      "cell_type": "code",
      "metadata": {
        "id": "82dW4uM0HpHs"
      },
      "source": [
        "CSV_COLUMN_NAMES = ['SepalLength', 'SepalWidth', 'PetalLength', 'PetalWidth', 'Species']\r\n",
        "SPECIES = ['Setosa', 'Versicolor', 'Virginica']\r\n",
        "# Lets define some constants to help us later on"
      ],
      "execution_count": 3,
      "outputs": []
    },
    {
      "cell_type": "code",
      "metadata": {
        "id": "597F6MxzKkyc"
      },
      "source": [
        "train_path = tf.keras.utils.get_file(\r\n",
        "    \"iris_training.csv\", \"https://storage.googleapis.com/download.tensorflow.org/data/iris_training.csv\")\r\n",
        "test_path = tf.keras.utils.get_file(\r\n",
        "    \"iris_test.csv\", \"https://storage.googleapis.com/download.tensorflow.org/data/iris_test.csv\")\r\n",
        "\r\n",
        "train = pd.read_csv(train_path, names=CSV_COLUMN_NAMES, header=0)\r\n",
        "test = pd.read_csv(test_path, names=CSV_COLUMN_NAMES, header=0)\r\n",
        "# Here we use keras (a module inside of TensorFlow) to grab our datasets and read them into a pandas dataframe"
      ],
      "execution_count": 4,
      "outputs": []
    },
    {
      "cell_type": "code",
      "metadata": {
        "colab": {
          "base_uri": "https://localhost:8080/",
          "height": 195
        },
        "id": "dPAJAetmMgxo",
        "outputId": "96d752ac-fe26-4e1e-b7b3-255a10ce6ceb"
      },
      "source": [
        "train.head()"
      ],
      "execution_count": 5,
      "outputs": [
        {
          "output_type": "execute_result",
          "data": {
            "text/html": [
              "<div>\n",
              "<style scoped>\n",
              "    .dataframe tbody tr th:only-of-type {\n",
              "        vertical-align: middle;\n",
              "    }\n",
              "\n",
              "    .dataframe tbody tr th {\n",
              "        vertical-align: top;\n",
              "    }\n",
              "\n",
              "    .dataframe thead th {\n",
              "        text-align: right;\n",
              "    }\n",
              "</style>\n",
              "<table border=\"1\" class=\"dataframe\">\n",
              "  <thead>\n",
              "    <tr style=\"text-align: right;\">\n",
              "      <th></th>\n",
              "      <th>SepalLength</th>\n",
              "      <th>SepalWidth</th>\n",
              "      <th>PetalLength</th>\n",
              "      <th>PetalWidth</th>\n",
              "      <th>Species</th>\n",
              "    </tr>\n",
              "  </thead>\n",
              "  <tbody>\n",
              "    <tr>\n",
              "      <th>0</th>\n",
              "      <td>6.4</td>\n",
              "      <td>2.8</td>\n",
              "      <td>5.6</td>\n",
              "      <td>2.2</td>\n",
              "      <td>2</td>\n",
              "    </tr>\n",
              "    <tr>\n",
              "      <th>1</th>\n",
              "      <td>5.0</td>\n",
              "      <td>2.3</td>\n",
              "      <td>3.3</td>\n",
              "      <td>1.0</td>\n",
              "      <td>1</td>\n",
              "    </tr>\n",
              "    <tr>\n",
              "      <th>2</th>\n",
              "      <td>4.9</td>\n",
              "      <td>2.5</td>\n",
              "      <td>4.5</td>\n",
              "      <td>1.7</td>\n",
              "      <td>2</td>\n",
              "    </tr>\n",
              "    <tr>\n",
              "      <th>3</th>\n",
              "      <td>4.9</td>\n",
              "      <td>3.1</td>\n",
              "      <td>1.5</td>\n",
              "      <td>0.1</td>\n",
              "      <td>0</td>\n",
              "    </tr>\n",
              "    <tr>\n",
              "      <th>4</th>\n",
              "      <td>5.7</td>\n",
              "      <td>3.8</td>\n",
              "      <td>1.7</td>\n",
              "      <td>0.3</td>\n",
              "      <td>0</td>\n",
              "    </tr>\n",
              "  </tbody>\n",
              "</table>\n",
              "</div>"
            ],
            "text/plain": [
              "   SepalLength  SepalWidth  PetalLength  PetalWidth  Species\n",
              "0          6.4         2.8          5.6         2.2        2\n",
              "1          5.0         2.3          3.3         1.0        1\n",
              "2          4.9         2.5          4.5         1.7        2\n",
              "3          4.9         3.1          1.5         0.1        0\n",
              "4          5.7         3.8          1.7         0.3        0"
            ]
          },
          "metadata": {
            "tags": []
          },
          "execution_count": 5
        }
      ]
    },
    {
      "cell_type": "code",
      "metadata": {
        "colab": {
          "base_uri": "https://localhost:8080/",
          "height": 195
        },
        "id": "qjnXv8sJMinW",
        "outputId": "fb44298a-4e4f-4b5d-fc35-915be65d4fa5"
      },
      "source": [
        "train_y = train.pop('Species')\r\n",
        "test_y = test.pop('Species')\r\n",
        "train.head() # the species column is now gone"
      ],
      "execution_count": 6,
      "outputs": [
        {
          "output_type": "execute_result",
          "data": {
            "text/html": [
              "<div>\n",
              "<style scoped>\n",
              "    .dataframe tbody tr th:only-of-type {\n",
              "        vertical-align: middle;\n",
              "    }\n",
              "\n",
              "    .dataframe tbody tr th {\n",
              "        vertical-align: top;\n",
              "    }\n",
              "\n",
              "    .dataframe thead th {\n",
              "        text-align: right;\n",
              "    }\n",
              "</style>\n",
              "<table border=\"1\" class=\"dataframe\">\n",
              "  <thead>\n",
              "    <tr style=\"text-align: right;\">\n",
              "      <th></th>\n",
              "      <th>SepalLength</th>\n",
              "      <th>SepalWidth</th>\n",
              "      <th>PetalLength</th>\n",
              "      <th>PetalWidth</th>\n",
              "    </tr>\n",
              "  </thead>\n",
              "  <tbody>\n",
              "    <tr>\n",
              "      <th>0</th>\n",
              "      <td>6.4</td>\n",
              "      <td>2.8</td>\n",
              "      <td>5.6</td>\n",
              "      <td>2.2</td>\n",
              "    </tr>\n",
              "    <tr>\n",
              "      <th>1</th>\n",
              "      <td>5.0</td>\n",
              "      <td>2.3</td>\n",
              "      <td>3.3</td>\n",
              "      <td>1.0</td>\n",
              "    </tr>\n",
              "    <tr>\n",
              "      <th>2</th>\n",
              "      <td>4.9</td>\n",
              "      <td>2.5</td>\n",
              "      <td>4.5</td>\n",
              "      <td>1.7</td>\n",
              "    </tr>\n",
              "    <tr>\n",
              "      <th>3</th>\n",
              "      <td>4.9</td>\n",
              "      <td>3.1</td>\n",
              "      <td>1.5</td>\n",
              "      <td>0.1</td>\n",
              "    </tr>\n",
              "    <tr>\n",
              "      <th>4</th>\n",
              "      <td>5.7</td>\n",
              "      <td>3.8</td>\n",
              "      <td>1.7</td>\n",
              "      <td>0.3</td>\n",
              "    </tr>\n",
              "  </tbody>\n",
              "</table>\n",
              "</div>"
            ],
            "text/plain": [
              "   SepalLength  SepalWidth  PetalLength  PetalWidth\n",
              "0          6.4         2.8          5.6         2.2\n",
              "1          5.0         2.3          3.3         1.0\n",
              "2          4.9         2.5          4.5         1.7\n",
              "3          4.9         3.1          1.5         0.1\n",
              "4          5.7         3.8          1.7         0.3"
            ]
          },
          "metadata": {
            "tags": []
          },
          "execution_count": 6
        }
      ]
    },
    {
      "cell_type": "code",
      "metadata": {
        "colab": {
          "base_uri": "https://localhost:8080/"
        },
        "id": "rJj4-9d5Mq7L",
        "outputId": "9bda5ad3-19f0-479a-c09e-535d74c3a6e2"
      },
      "source": [
        "test_y.head()"
      ],
      "execution_count": 7,
      "outputs": [
        {
          "output_type": "execute_result",
          "data": {
            "text/plain": [
              "0    1\n",
              "1    2\n",
              "2    0\n",
              "3    1\n",
              "4    1\n",
              "Name: Species, dtype: int64"
            ]
          },
          "metadata": {
            "tags": []
          },
          "execution_count": 7
        }
      ]
    },
    {
      "cell_type": "markdown",
      "metadata": {
        "id": "7xPMXb1kMvJK"
      },
      "source": [
        "## Input Function"
      ]
    },
    {
      "cell_type": "code",
      "metadata": {
        "id": "q7QrfuxkMuun"
      },
      "source": [
        "def input_fn(features, labels, training=True, batch_size=256):\r\n",
        "    # Convert the inputs to a Dataset.\r\n",
        "    dataset = tf.data.Dataset.from_tensor_slices((dict(features), labels))\r\n",
        "\r\n",
        "    # Shuffle and repeat if you are in training mode.\r\n",
        "    if training:\r\n",
        "        dataset = dataset.shuffle(1000).repeat()\r\n",
        "    \r\n",
        "    return dataset.batch(batch_size)"
      ],
      "execution_count": 8,
      "outputs": []
    },
    {
      "cell_type": "markdown",
      "metadata": {
        "id": "6RTapUkiV37i"
      },
      "source": [
        "## Feature Columns\r\n",
        "\r\n"
      ]
    },
    {
      "cell_type": "code",
      "metadata": {
        "colab": {
          "base_uri": "https://localhost:8080/"
        },
        "id": "v7NVpgwyWAqt",
        "outputId": "e20d1ab9-6056-418f-c711-1b1cd93acc57"
      },
      "source": [
        "# Feature columns describe how to use the input.\r\n",
        "my_feature_columns = []\r\n",
        "for key in train.keys():\r\n",
        "    my_feature_columns.append(tf.feature_column.numeric_column(key=key))\r\n",
        "print(my_feature_columns)"
      ],
      "execution_count": 9,
      "outputs": [
        {
          "output_type": "stream",
          "text": [
            "[NumericColumn(key='SepalLength', shape=(1,), default_value=None, dtype=tf.float32, normalizer_fn=None), NumericColumn(key='SepalWidth', shape=(1,), default_value=None, dtype=tf.float32, normalizer_fn=None), NumericColumn(key='PetalLength', shape=(1,), default_value=None, dtype=tf.float32, normalizer_fn=None), NumericColumn(key='PetalWidth', shape=(1,), default_value=None, dtype=tf.float32, normalizer_fn=None)]\n"
          ],
          "name": "stdout"
        }
      ]
    },
    {
      "cell_type": "markdown",
      "metadata": {
        "id": "TRxQR9sjWGxX"
      },
      "source": [
        "# Building the Model\r\n",
        "\r\n",
        "For classification tasks there are variety of different estimators/models that we can pick from. Some options are listed below.\r\n",
        "- ```DNNClassifier``` (Deep Neural Network)\r\n",
        "- ```LinearClassifier```\r\n",
        "\r\n",
        "We can choose either model but the DNN seems to be the best choice. This is because we may not be able to find a linear coorespondence in our data. \r\n"
      ]
    },
    {
      "cell_type": "code",
      "metadata": {
        "colab": {
          "base_uri": "https://localhost:8080/"
        },
        "id": "CLT3RBrpWZzH",
        "outputId": "2aa4a4f3-2912-4e08-df1f-c2c135ebb340"
      },
      "source": [
        "# Build a DNN with 2 hidden layers with 30 and 10 hidden nodes each.\r\n",
        "classifier = tf.estimator.DNNClassifier(\r\n",
        "    feature_columns=my_feature_columns,\r\n",
        "    # Two hidden layers of 30 and 10 nodes respectively.\r\n",
        "    hidden_units=[30, 10],\r\n",
        "    # The model must choose between 3 classes.\r\n",
        "    n_classes=3)"
      ],
      "execution_count": 10,
      "outputs": [
        {
          "output_type": "stream",
          "text": [
            "INFO:tensorflow:Using default config.\n",
            "WARNING:tensorflow:Using temporary folder as model directory: /tmp/tmpkaf0p1io\n",
            "INFO:tensorflow:Using config: {'_model_dir': '/tmp/tmpkaf0p1io', '_tf_random_seed': None, '_save_summary_steps': 100, '_save_checkpoints_steps': None, '_save_checkpoints_secs': 600, '_session_config': allow_soft_placement: true\n",
            "graph_options {\n",
            "  rewrite_options {\n",
            "    meta_optimizer_iterations: ONE\n",
            "  }\n",
            "}\n",
            ", '_keep_checkpoint_max': 5, '_keep_checkpoint_every_n_hours': 10000, '_log_step_count_steps': 100, '_train_distribute': None, '_device_fn': None, '_protocol': None, '_eval_distribute': None, '_experimental_distribute': None, '_experimental_max_worker_delay_secs': None, '_session_creation_timeout_secs': 7200, '_checkpoint_save_graph_def': True, '_service': None, '_cluster_spec': ClusterSpec({}), '_task_type': 'worker', '_task_id': 0, '_global_id_in_cluster': 0, '_master': '', '_evaluation_master': '', '_is_chief': True, '_num_ps_replicas': 0, '_num_worker_replicas': 1}\n"
          ],
          "name": "stdout"
        }
      ]
    },
    {
      "cell_type": "markdown",
      "metadata": {
        "id": "AaBs1TfVaEIc"
      },
      "source": [
        "What we've just done is created a deep neural network that has two hidden layers. These layers have 30 and 10 neurons respectively. This is the number of neurons the TensorFlow official tutorial uses so we'll stick with it. However, it is worth mentioning that the number of hidden neurons is an arbitrary number and many experiments and tests are usually done to determine the best choice for these values."
      ]
    },
    {
      "cell_type": "markdown",
      "metadata": {
        "id": "kMfPinsJaF-x"
      },
      "source": [
        "## Training\r\n",
        "\r\n"
      ]
    },
    {
      "cell_type": "code",
      "metadata": {
        "colab": {
          "base_uri": "https://localhost:8080/"
        },
        "id": "ufYQv1-baKY0",
        "outputId": "e7fda769-e4fc-423c-c0fa-ed1ec8ec8e7e"
      },
      "source": [
        "classifier.train(\r\n",
        "    input_fn=lambda: input_fn(train, train_y, training=True),\r\n",
        "    steps=5000)\r\n",
        "# We include a lambda to avoid creating an inner function previously"
      ],
      "execution_count": 11,
      "outputs": [
        {
          "output_type": "stream",
          "text": [
            "WARNING:tensorflow:From /usr/local/lib/python3.6/dist-packages/tensorflow/python/training/training_util.py:236: Variable.initialized_value (from tensorflow.python.ops.variables) is deprecated and will be removed in a future version.\n",
            "Instructions for updating:\n",
            "Use Variable.read_value. Variables in 2.X are initialized automatically both in eager and graph (inside tf.defun) contexts.\n",
            "INFO:tensorflow:Calling model_fn.\n",
            "WARNING:tensorflow:From /usr/local/lib/python3.6/dist-packages/tensorflow/python/keras/optimizer_v2/adagrad.py:83: calling Constant.__init__ (from tensorflow.python.ops.init_ops) with dtype is deprecated and will be removed in a future version.\n",
            "Instructions for updating:\n",
            "Call initializer instance with the dtype argument instead of passing it to the constructor\n",
            "INFO:tensorflow:Done calling model_fn.\n",
            "INFO:tensorflow:Create CheckpointSaverHook.\n",
            "INFO:tensorflow:Graph was finalized.\n",
            "INFO:tensorflow:Running local_init_op.\n",
            "INFO:tensorflow:Done running local_init_op.\n",
            "INFO:tensorflow:Calling checkpoint listeners before saving checkpoint 0...\n",
            "INFO:tensorflow:Saving checkpoints for 0 into /tmp/tmpkaf0p1io/model.ckpt.\n",
            "INFO:tensorflow:Calling checkpoint listeners after saving checkpoint 0...\n",
            "INFO:tensorflow:loss = 1.909142, step = 0\n",
            "INFO:tensorflow:global_step/sec: 386.977\n",
            "INFO:tensorflow:loss = 1.3829191, step = 100 (0.266 sec)\n",
            "INFO:tensorflow:global_step/sec: 460.423\n",
            "INFO:tensorflow:loss = 1.2224257, step = 200 (0.211 sec)\n",
            "INFO:tensorflow:global_step/sec: 497.676\n",
            "INFO:tensorflow:loss = 1.1653125, step = 300 (0.202 sec)\n",
            "INFO:tensorflow:global_step/sec: 509.134\n",
            "INFO:tensorflow:loss = 1.1299467, step = 400 (0.198 sec)\n",
            "INFO:tensorflow:global_step/sec: 505.914\n",
            "INFO:tensorflow:loss = 1.0547788, step = 500 (0.196 sec)\n",
            "INFO:tensorflow:global_step/sec: 438.603\n",
            "INFO:tensorflow:loss = 1.0169226, step = 600 (0.233 sec)\n",
            "INFO:tensorflow:global_step/sec: 463.615\n",
            "INFO:tensorflow:loss = 0.96384066, step = 700 (0.211 sec)\n",
            "INFO:tensorflow:global_step/sec: 488.515\n",
            "INFO:tensorflow:loss = 0.94704133, step = 800 (0.206 sec)\n",
            "INFO:tensorflow:global_step/sec: 501.003\n",
            "INFO:tensorflow:loss = 0.9232907, step = 900 (0.198 sec)\n",
            "INFO:tensorflow:global_step/sec: 465.332\n",
            "INFO:tensorflow:loss = 0.89865464, step = 1000 (0.218 sec)\n",
            "INFO:tensorflow:global_step/sec: 437.097\n",
            "INFO:tensorflow:loss = 0.88703436, step = 1100 (0.229 sec)\n",
            "INFO:tensorflow:global_step/sec: 527.091\n",
            "INFO:tensorflow:loss = 0.86213255, step = 1200 (0.190 sec)\n",
            "INFO:tensorflow:global_step/sec: 486.193\n",
            "INFO:tensorflow:loss = 0.84780014, step = 1300 (0.203 sec)\n",
            "INFO:tensorflow:global_step/sec: 500.299\n",
            "INFO:tensorflow:loss = 0.83340216, step = 1400 (0.202 sec)\n",
            "INFO:tensorflow:global_step/sec: 446.702\n",
            "INFO:tensorflow:loss = 0.8149116, step = 1500 (0.224 sec)\n",
            "INFO:tensorflow:global_step/sec: 466.216\n",
            "INFO:tensorflow:loss = 0.7900257, step = 1600 (0.212 sec)\n",
            "INFO:tensorflow:global_step/sec: 532.492\n",
            "INFO:tensorflow:loss = 0.78223634, step = 1700 (0.188 sec)\n",
            "INFO:tensorflow:global_step/sec: 477.444\n",
            "INFO:tensorflow:loss = 0.771544, step = 1800 (0.210 sec)\n",
            "INFO:tensorflow:global_step/sec: 518.797\n",
            "INFO:tensorflow:loss = 0.7589147, step = 1900 (0.192 sec)\n",
            "INFO:tensorflow:global_step/sec: 497.934\n",
            "INFO:tensorflow:loss = 0.7426908, step = 2000 (0.201 sec)\n",
            "INFO:tensorflow:global_step/sec: 453.229\n",
            "INFO:tensorflow:loss = 0.73123467, step = 2100 (0.223 sec)\n",
            "INFO:tensorflow:global_step/sec: 489.149\n",
            "INFO:tensorflow:loss = 0.71277857, step = 2200 (0.204 sec)\n",
            "INFO:tensorflow:global_step/sec: 504.882\n",
            "INFO:tensorflow:loss = 0.7155671, step = 2300 (0.198 sec)\n",
            "INFO:tensorflow:global_step/sec: 491.646\n",
            "INFO:tensorflow:loss = 0.69665945, step = 2400 (0.201 sec)\n",
            "INFO:tensorflow:global_step/sec: 485.655\n",
            "INFO:tensorflow:loss = 0.68688136, step = 2500 (0.208 sec)\n",
            "INFO:tensorflow:global_step/sec: 494.842\n",
            "INFO:tensorflow:loss = 0.68348765, step = 2600 (0.203 sec)\n",
            "INFO:tensorflow:global_step/sec: 459.465\n",
            "INFO:tensorflow:loss = 0.6685386, step = 2700 (0.217 sec)\n",
            "INFO:tensorflow:global_step/sec: 467.75\n",
            "INFO:tensorflow:loss = 0.6547297, step = 2800 (0.214 sec)\n",
            "INFO:tensorflow:global_step/sec: 453.044\n",
            "INFO:tensorflow:loss = 0.6488521, step = 2900 (0.218 sec)\n",
            "INFO:tensorflow:global_step/sec: 503.913\n",
            "INFO:tensorflow:loss = 0.6435134, step = 3000 (0.197 sec)\n",
            "INFO:tensorflow:global_step/sec: 478.102\n",
            "INFO:tensorflow:loss = 0.61822593, step = 3100 (0.211 sec)\n",
            "INFO:tensorflow:global_step/sec: 536.607\n",
            "INFO:tensorflow:loss = 0.63274395, step = 3200 (0.186 sec)\n",
            "INFO:tensorflow:global_step/sec: 527.213\n",
            "INFO:tensorflow:loss = 0.6228094, step = 3300 (0.189 sec)\n",
            "INFO:tensorflow:global_step/sec: 486.191\n",
            "INFO:tensorflow:loss = 0.6095949, step = 3400 (0.208 sec)\n",
            "INFO:tensorflow:global_step/sec: 495.742\n",
            "INFO:tensorflow:loss = 0.6029636, step = 3500 (0.199 sec)\n",
            "INFO:tensorflow:global_step/sec: 493.833\n",
            "INFO:tensorflow:loss = 0.5967541, step = 3600 (0.203 sec)\n",
            "INFO:tensorflow:global_step/sec: 449.02\n",
            "INFO:tensorflow:loss = 0.5960341, step = 3700 (0.225 sec)\n",
            "INFO:tensorflow:global_step/sec: 513.117\n",
            "INFO:tensorflow:loss = 0.5901825, step = 3800 (0.196 sec)\n",
            "INFO:tensorflow:global_step/sec: 477.335\n",
            "INFO:tensorflow:loss = 0.5737995, step = 3900 (0.208 sec)\n",
            "INFO:tensorflow:global_step/sec: 499.243\n",
            "INFO:tensorflow:loss = 0.5663136, step = 4000 (0.198 sec)\n",
            "INFO:tensorflow:global_step/sec: 486.016\n",
            "INFO:tensorflow:loss = 0.5671012, step = 4100 (0.207 sec)\n",
            "INFO:tensorflow:global_step/sec: 457.353\n",
            "INFO:tensorflow:loss = 0.552325, step = 4200 (0.216 sec)\n",
            "INFO:tensorflow:global_step/sec: 467.474\n",
            "INFO:tensorflow:loss = 0.53435576, step = 4300 (0.215 sec)\n",
            "INFO:tensorflow:global_step/sec: 477.701\n",
            "INFO:tensorflow:loss = 0.543223, step = 4400 (0.212 sec)\n",
            "INFO:tensorflow:global_step/sec: 505.953\n",
            "INFO:tensorflow:loss = 0.53781724, step = 4500 (0.198 sec)\n",
            "INFO:tensorflow:global_step/sec: 480.347\n",
            "INFO:tensorflow:loss = 0.5202024, step = 4600 (0.207 sec)\n",
            "INFO:tensorflow:global_step/sec: 521.3\n",
            "INFO:tensorflow:loss = 0.52117074, step = 4700 (0.193 sec)\n",
            "INFO:tensorflow:global_step/sec: 536.044\n",
            "INFO:tensorflow:loss = 0.5192967, step = 4800 (0.183 sec)\n",
            "INFO:tensorflow:global_step/sec: 533.717\n",
            "INFO:tensorflow:loss = 0.51606476, step = 4900 (0.187 sec)\n",
            "INFO:tensorflow:Calling checkpoint listeners before saving checkpoint 5000...\n",
            "INFO:tensorflow:Saving checkpoints for 5000 into /tmp/tmpkaf0p1io/model.ckpt.\n",
            "INFO:tensorflow:Calling checkpoint listeners after saving checkpoint 5000...\n",
            "INFO:tensorflow:Loss for final step: 0.51405776.\n"
          ],
          "name": "stdout"
        },
        {
          "output_type": "execute_result",
          "data": {
            "text/plain": [
              "<tensorflow_estimator.python.estimator.canned.dnn.DNNClassifierV2 at 0x7f64fb86b048>"
            ]
          },
          "metadata": {
            "tags": []
          },
          "execution_count": 11
        }
      ]
    },
    {
      "cell_type": "markdown",
      "metadata": {
        "id": "45_vYwyxaUWO"
      },
      "source": [
        "The only thing to explain here is the steps argument. This simply tells the classifier to run for 5000 steps. "
      ]
    },
    {
      "cell_type": "markdown",
      "metadata": {
        "id": "8a1A8RDrad-0"
      },
      "source": [
        "## Evaluation"
      ]
    },
    {
      "cell_type": "code",
      "metadata": {
        "colab": {
          "base_uri": "https://localhost:8080/"
        },
        "id": "rZQ31e7eaRsy",
        "outputId": "9bcb1adc-f0a9-49a8-9198-ac0f629dcfec"
      },
      "source": [
        "eval_result = classifier.evaluate(\r\n",
        "    input_fn=lambda: input_fn(test, test_y, training=False))\r\n",
        "\r\n",
        "print('\\nTest set accuracy: {accuracy:0.3f}\\n'.format(**eval_result))"
      ],
      "execution_count": 12,
      "outputs": [
        {
          "output_type": "stream",
          "text": [
            "INFO:tensorflow:Calling model_fn.\n",
            "INFO:tensorflow:Done calling model_fn.\n",
            "INFO:tensorflow:Starting evaluation at 2021-01-08T14:35:35Z\n",
            "INFO:tensorflow:Graph was finalized.\n",
            "INFO:tensorflow:Restoring parameters from /tmp/tmpkaf0p1io/model.ckpt-5000\n",
            "INFO:tensorflow:Running local_init_op.\n",
            "INFO:tensorflow:Done running local_init_op.\n",
            "INFO:tensorflow:Inference Time : 0.22395s\n",
            "INFO:tensorflow:Finished evaluation at 2021-01-08-14:35:35\n",
            "INFO:tensorflow:Saving dict for global step 5000: accuracy = 0.8666667, average_loss = 0.5878876, global_step = 5000, loss = 0.5878876\n",
            "INFO:tensorflow:Saving 'checkpoint_path' summary for global step 5000: /tmp/tmpkaf0p1io/model.ckpt-5000\n",
            "\n",
            "Test set accuracy: 0.867\n",
            "\n"
          ],
          "name": "stdout"
        }
      ]
    },
    {
      "cell_type": "markdown",
      "metadata": {
        "id": "azO5AZM-atZv"
      },
      "source": [
        "Notice this time we didn't specify the number of steps. This is because during evaluation the model will only look at the testing data one time."
      ]
    },
    {
      "cell_type": "markdown",
      "metadata": {
        "id": "67_lGiNUau02"
      },
      "source": [
        "## Predictions\r\n",
        "\r\n"
      ]
    },
    {
      "cell_type": "code",
      "metadata": {
        "colab": {
          "base_uri": "https://localhost:8080/"
        },
        "id": "-_Jn8HYbdQzk",
        "outputId": "d54236ff-0468-44d0-c789-d60099cece33"
      },
      "source": [
        "def input_fn(features, batch_size=256):\r\n",
        "    # Convert the inputs to a Dataset without labels.\r\n",
        "    return tf.data.Dataset.from_tensor_slices(dict(features)).batch(batch_size)\r\n",
        "\r\n",
        "features = ['SepalLength', 'SepalWidth', 'PetalLength', 'PetalWidth']\r\n",
        "predict = {}\r\n",
        "\r\n",
        "print(\"Please type numeric values as prompted.\")\r\n",
        "for feature in features:\r\n",
        "  valid = True\r\n",
        "  while valid: \r\n",
        "    val = input(feature + \": \")\r\n",
        "    if not val.isdigit(): valid = False\r\n",
        "\r\n",
        "  predict[feature] = [float(val)]\r\n",
        "\r\n",
        "predictions = classifier.predict(input_fn=lambda: input_fn(predict))\r\n",
        "for pred_dict in predictions:\r\n",
        "    class_id = pred_dict['class_ids'][0]\r\n",
        "    probability = pred_dict['probabilities'][class_id]\r\n",
        "\r\n",
        "    print('Prediction is \"{}\" ({:.1f}%)'.format(\r\n",
        "        SPECIES[class_id], 100 * probability))\r\n"
      ],
      "execution_count": 14,
      "outputs": [
        {
          "output_type": "stream",
          "text": [
            "Please type numeric values as prompted.\n",
            "SepalLength: 2.4\n",
            "SepalWidth: 2.6\n",
            "PetalLength: 6.5\n",
            "PetalWidth: 6.3\n",
            "INFO:tensorflow:Calling model_fn.\n",
            "INFO:tensorflow:Done calling model_fn.\n",
            "INFO:tensorflow:Graph was finalized.\n",
            "INFO:tensorflow:Restoring parameters from /tmp/tmpkaf0p1io/model.ckpt-5000\n",
            "INFO:tensorflow:Running local_init_op.\n",
            "INFO:tensorflow:Done running local_init_op.\n",
            "Prediction is \"Virginica\" (44.7%)\n"
          ],
          "name": "stdout"
        }
      ]
    }
  ]
}