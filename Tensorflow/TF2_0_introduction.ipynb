{
  "nbformat": 4,
  "nbformat_minor": 0,
  "metadata": {
    "colab": {
      "name": "TF2.0 introduction.ipynb",
      "provenance": [],
      "collapsed_sections": [],
      "toc_visible": true
    },
    "kernelspec": {
      "name": "python3",
      "display_name": "Python 3"
    }
  },
  "cells": [
    {
      "cell_type": "markdown",
      "metadata": {
        "id": "VU3CXM_1g1pu"
      },
      "source": [
        "# Tensorflow\r\n",
        "\r\n",
        "Tensorflow is a open source machine learning platform. It is owned and maintained by google and it is one of the largest open source machine learning libraries in the world.\r\n",
        "\r\n",
        "Tensorflow is used to build models that can do some of the following:\r\n",
        "\r\n",
        "- Image classification\r\n",
        "- Data Clustering\r\n",
        "- Regression\r\n",
        "- Reinforcement learning\r\n",
        "- Natural language Processing"
      ]
    },
    {
      "cell_type": "markdown",
      "metadata": {
        "id": "3ZTnjaB5hdy-"
      },
      "source": [
        "Tensorflow has two main components. They are\r\n",
        "- graph \r\n",
        "- session\r\n",
        "\r\n",
        "TensorFlow works by building a graph of defined computations. Nothins is computed or stored in this graph. It is simply a way of defining the operations that have been written in code.\r\n",
        "\r\n",
        "Tensorflow sessions allows parts of the graph to be executed. It allocates memory and resources and handles the execution of the operations and computations we've defined.\r\n",
        "\r\n",
        "In some instances we will need to run a session to be able to execute parts of the graph we've created earlier.\r\n",
        "\r\n"
      ]
    },
    {
      "cell_type": "code",
      "metadata": {
        "colab": {
          "base_uri": "https://localhost:8080/"
        },
        "id": "h7Dcq8-Ztoir",
        "outputId": "ea09b39d-a1ec-4663-987a-eb19fcff604f"
      },
      "source": [
        "import tensorflow as tf\r\n",
        "print(tf.__version__)"
      ],
      "execution_count": 8,
      "outputs": [
        {
          "output_type": "stream",
          "text": [
            "2.4.0\n"
          ],
          "name": "stdout"
        }
      ]
    },
    {
      "cell_type": "markdown",
      "metadata": {
        "id": "y4n4P-in4grQ"
      },
      "source": [
        "## Tensors\r\n",
        "\r\n",
        "\"A tensor is a generalization of vectors and matrices to potentially higher dimensions. Internally, TensorFlow represents tensors as n-dimensional arrays of base datatypes.\" (https://www.tensorflow.org/guide/tensor)\r\n",
        "\r\n",
        "It should't surprise you that tensors are a fundemental apsect of TensorFlow. They are the main objects that are passed around and manipluated throughout the program. Each tensor represents a partialy defined computation that will eventually produce a value. TensorFlow programs work by building a graph of Tensor objects that details how tensors are related. Running different parts of the graph allow results to be generated.\r\n",
        "\r\n",
        "Each tensor has a data type and a shape.\r\n",
        "\r\n",
        "Data Types Include: float32, int32, string and others.\r\n",
        "\r\n",
        "Shape: Represents the dimension of data.\r\n",
        "\r\n",
        "Just like vectors and matrices tensors can have operations applied to them like addition, subtraction, dot product, cross product etc.\r\n",
        "\r\n",
        "In the next sections we will discuss some different properties of tensors. This is to make you more familiar with how tensorflow represnts data and how you can manipulate this data."
      ]
    },
    {
      "cell_type": "markdown",
      "metadata": {
        "id": "AdAzH0K781xI"
      },
      "source": [
        "### Creating Tensors\r\n",
        "\r\n",
        "You simply define the value of the tensor and the datatype. \r\n",
        "some datatypes to refer.\r\n",
        "https://www.tensorflow.org/api_docs/python/tf/dtypes/DType?version=stable"
      ]
    },
    {
      "cell_type": "code",
      "metadata": {
        "colab": {
          "base_uri": "https://localhost:8080/"
        },
        "id": "0dM3XOqf4gBY",
        "outputId": "d902fa99-1466-4238-b16d-dd36472b2053"
      },
      "source": [
        "string = tf.Variable(\"this is a string\", tf.string)\r\n",
        "print(string)\r\n",
        "number = tf.Variable(324, tf.int16)\r\n",
        "floating = tf.Variable(3.567, tf.float64)"
      ],
      "execution_count": 9,
      "outputs": [
        {
          "output_type": "stream",
          "text": [
            "<tf.Variable 'Variable:0' shape=() dtype=string, numpy=b'this is a string'>\n"
          ],
          "name": "stdout"
        }
      ]
    },
    {
      "cell_type": "markdown",
      "metadata": {
        "id": "ODE2usNN_rVN"
      },
      "source": [
        "### Rank/Degree of Tensor\r\n",
        "\r\n",
        "Another word for rank is degree, these terms simply mean the number of dimensions involved in the tensor. What we created above is a tensor of rank 0, also known as a scalar."
      ]
    },
    {
      "cell_type": "code",
      "metadata": {
        "id": "mFiKmS5E9cML"
      },
      "source": [
        "rank1_tensor = tf.Variable([\"Test\"], tf.string) \r\n",
        "rank2_tensor = tf.Variable([[\"test\", \"ok\"], [\"test\", \"yes\"]], tf.string)"
      ],
      "execution_count": 10,
      "outputs": []
    },
    {
      "cell_type": "code",
      "metadata": {
        "colab": {
          "base_uri": "https://localhost:8080/"
        },
        "id": "_AMZm9ks_9j1",
        "outputId": "a7165840-b61d-4c05-f7c1-dfd7818803b3"
      },
      "source": [
        "\"\"\"To determine the rank we can use the rank method\"\"\"\r\n",
        "\r\n",
        "tf.rank(rank2_tensor)"
      ],
      "execution_count": 11,
      "outputs": [
        {
          "output_type": "execute_result",
          "data": {
            "text/plain": [
              "<tf.Tensor: shape=(), dtype=int32, numpy=2>"
            ]
          },
          "metadata": {
            "tags": []
          },
          "execution_count": 11
        }
      ]
    },
    {
      "cell_type": "markdown",
      "metadata": {
        "id": "hu6ouVs2Z8ra"
      },
      "source": [
        "### Shape of the Tensor\r\n",
        "\r\n",
        "Now that we've talked about the rank of tensors it's time to talk about the shape. The shape of a tensor is simply the number of elements that exist in each dimension. TensorFlow will try to determine the shape of a tensor but sometimes it may be unknown.\r\n",
        "\r\n",
        "To get the shape of a tensor we use the shape attribute."
      ]
    },
    {
      "cell_type": "code",
      "metadata": {
        "colab": {
          "base_uri": "https://localhost:8080/"
        },
        "id": "4TWRJ8mnaCn1",
        "outputId": "cfc7dd2c-37f7-471f-dab1-d05d50c73b38"
      },
      "source": [
        "rank1_tensor.shape"
      ],
      "execution_count": 15,
      "outputs": [
        {
          "output_type": "execute_result",
          "data": {
            "text/plain": [
              "TensorShape([1])"
            ]
          },
          "metadata": {
            "tags": []
          },
          "execution_count": 15
        }
      ]
    },
    {
      "cell_type": "markdown",
      "metadata": {
        "id": "-GXKTOPIByQl"
      },
      "source": [
        "### Change the Tensor Shape\r\n",
        "\r\n",
        "The number of elements of a tensor is the product of the sizes of all its shapes. There are often many shapes that have the same number of elements, making it convient to be able to change the shape of a tensor."
      ]
    },
    {
      "cell_type": "code",
      "metadata": {
        "id": "S4FMFL4RB-k5"
      },
      "source": [
        "tensor1 = tf.ones([1,2,3])  # tf.ones() creates a shape [1,2,3] tensor full of ones\r\n",
        "tensor2 = tf.reshape(tensor1, [2,3,1])  # reshape existing data to shape [2,3,1]\r\n",
        "tensor3 = tf.reshape(tensor2, [3, -1])  # -1 tells the tensor to calculate the size of the dimension in that place\r\n",
        "                                        # this will reshape the tensor to [3,3]\r\n",
        "                                                                             \r\n",
        "# The numer of elements in the reshaped tensor MUST match the number in the original"
      ],
      "execution_count": 12,
      "outputs": []
    },
    {
      "cell_type": "code",
      "metadata": {
        "colab": {
          "base_uri": "https://localhost:8080/"
        },
        "id": "TvreCScoVBTA",
        "outputId": "dfb15ea9-d7ee-400e-952a-e1ef48475968"
      },
      "source": [
        "print(tensor1)\r\n",
        "print(tensor2)\r\n",
        "print(tensor3)"
      ],
      "execution_count": 13,
      "outputs": [
        {
          "output_type": "stream",
          "text": [
            "tf.Tensor(\n",
            "[[[1. 1. 1.]\n",
            "  [1. 1. 1.]]], shape=(1, 2, 3), dtype=float32)\n",
            "tf.Tensor(\n",
            "[[[1.]\n",
            "  [1.]\n",
            "  [1.]]\n",
            "\n",
            " [[1.]\n",
            "  [1.]\n",
            "  [1.]]], shape=(2, 3, 1), dtype=float32)\n",
            "tf.Tensor(\n",
            "[[1. 1.]\n",
            " [1. 1.]\n",
            " [1. 1.]], shape=(3, 2), dtype=float32)\n"
          ],
          "name": "stdout"
        }
      ]
    },
    {
      "cell_type": "markdown",
      "metadata": {
        "id": "46rHNozdaRgD"
      },
      "source": [
        "### Slicing the Tensor\r\n",
        "\r\n",
        "You may be familiar with the term \"slice\" in python and its use on lists, tuples etc. Well the slice operator can be used on tensors to select specific axes or elements.\r\n",
        "\r\n",
        "When we slice or select elements from a tensor, we can use comma seperated values inside the set of square brackets. Each subsequent value refrences a different dimension of the tensor.\r\n",
        "\r\n",
        "Ex: tensor[dim1, dim2, dim3]"
      ]
    },
    {
      "cell_type": "code",
      "metadata": {
        "colab": {
          "base_uri": "https://localhost:8080/"
        },
        "id": "yM4ickyefBBr",
        "outputId": "bb0a7a24-471f-4262-e355-f82890db38f8"
      },
      "source": [
        "# Creating a 2D tensor\r\n",
        "matrix = [[1,2,3,4,5],\r\n",
        "          [6,7,8,9,10],\r\n",
        "          [11,12,13,14,15],\r\n",
        "          [16,17,18,19,20]]\r\n",
        "\r\n",
        "tensor = tf.Variable(matrix, dtype=tf.int32) \r\n",
        "print(tf.rank(tensor))\r\n",
        "print(tensor.shape)"
      ],
      "execution_count": 16,
      "outputs": [
        {
          "output_type": "stream",
          "text": [
            "tf.Tensor(2, shape=(), dtype=int32)\n",
            "(4, 5)\n"
          ],
          "name": "stdout"
        }
      ]
    },
    {
      "cell_type": "code",
      "metadata": {
        "colab": {
          "base_uri": "https://localhost:8080/"
        },
        "id": "BFhqCjK9fGdD",
        "outputId": "af715c3c-c575-4621-9042-33148060c2c0"
      },
      "source": [
        "# Now lets select some different rows and columns from our tensor\r\n",
        "\r\n",
        "three = tensor[0,2]  # selects the 3rd element from the 1st row\r\n",
        "print(three)  # -> 3\r\n",
        "\r\n",
        "row1 = tensor[0]  # selects the first row\r\n",
        "print(row1)\r\n",
        "\r\n",
        "column1 = tensor[:, 0]  # selects the first column\r\n",
        "print(column1)\r\n",
        "\r\n",
        "row_2_and_4 = tensor[1::2]  # selects second and fourth row\r\n",
        "print(row_2_and_4)\r\n",
        "\r\n",
        "column_1_in_row_2_and_3 = tensor[1:3, 0]\r\n",
        "print(column_1_in_row_2_and_3)\r\n"
      ],
      "execution_count": 18,
      "outputs": [
        {
          "output_type": "stream",
          "text": [
            "tf.Tensor(3, shape=(), dtype=int32)\n",
            "tf.Tensor([1 2 3 4 5], shape=(5,), dtype=int32)\n",
            "tf.Tensor([ 1  6 11 16], shape=(4,), dtype=int32)\n",
            "tf.Tensor(\n",
            "[[ 6  7  8  9 10]\n",
            " [16 17 18 19 20]], shape=(2, 5), dtype=int32)\n",
            "tf.Tensor([ 6 11], shape=(2,), dtype=int32)\n"
          ],
          "name": "stdout"
        }
      ]
    },
    {
      "cell_type": "markdown",
      "metadata": {
        "id": "8W9fhaxpfZyr"
      },
      "source": [
        "## Tensor Types\r\n",
        "\r\n",
        "Types of Tensors\r\n",
        "Before we go to far, I will mention that there are diffent types of tensors. These are the most used and we will talk more in depth about each as they are used.\r\n",
        "\r\n",
        "Variable\r\n",
        "Constant\r\n",
        "Placeholder\r\n",
        "SparseTensor\r\n",
        "With the execption of Variable all these tensors are immuttable, meaning their value may not change during execution.\r\n",
        "\r\n",
        "For now, it is enough to understand that we use the Variable tensor when we want to potentially change the value of our tensor.\r\n",
        "\r\n"
      ]
    }
  ]
}