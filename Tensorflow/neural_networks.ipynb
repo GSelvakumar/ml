{
  "nbformat": 4,
  "nbformat_minor": 0,
  "metadata": {
    "colab": {
      "name": "neural networks.ipynb",
      "provenance": []
    },
    "kernelspec": {
      "name": "python3",
      "display_name": "Python 3"
    }
  },
  "cells": [
    {
      "cell_type": "markdown",
      "metadata": {
        "id": "edBJ-55XySjl"
      },
      "source": [
        "#Introduction to Neural Networks\r\n",
        "\r\n",
        "In this notebook you will learn how to create and use a neural network to classify articles of clothing. To achieve this, we will use a sub module of TensorFlow called *keras*.\r\n",
        "\r\n",
        "reference from tenserflow:\r\n",
        "https://www.tensorflow.org/tutorials/keras/classification"
      ]
    },
    {
      "cell_type": "markdown",
      "metadata": {
        "id": "6OqSK3zwyinO"
      },
      "source": [
        "##Keras\r\n",
        "Before we dive in and start discussing neural networks, I'd like to give a breif introduction to keras.\r\n",
        "\r\n",
        "From the keras official documentation (https://keras.io/) keras is described as follows.\r\n",
        "\r\n",
        "\"Keras is a high-level neural networks API, written in Python and capable of running on top of TensorFlow, CNTK, or Theano. It was developed with a focus on enabling fast experimentation. \r\n",
        "\r\n",
        "Use Keras if you need a deep learning library that:\r\n",
        "\r\n",
        "- Allows for easy and fast prototyping (through user friendliness, modularity, and extensibility).\r\n",
        "- Supports both convolutional networks and recurrent networks, as well as combinations of the two.\r\n",
        "- Runs seamlessly on CPU and GPU\r\n",
        "\r\n",
        "Keras is a very powerful module that allows us to avoid having to build neural networks from scratch. It also hides a lot of mathematical complexity (that otherwise we would have to implement) inside of helpful packages, modules and methods.\r\n",
        "\r\n",
        "In this guide we will use keras to quickly develop neural networks."
      ]
    },
    {
      "cell_type": "markdown",
      "metadata": {
        "id": "JPn42zif0t8S"
      },
      "source": [
        "##What is a Neural Network\r\n",
        "So, what are these magical things that have been beating chess grandmasters, driving cars, detecting cancer cells and winning video games? \r\n",
        "\r\n",
        "A deep neural network is a layered representation of data. The term \"deep\" refers to the presence of multiple layers. Recall that in our core learning algorithms (like linear regression) data was not transformed or modified within the model, it simply existed in one layer. We passed some features to our model, some math was done, an answer was returned. The data was not changed or transformed throughout this process. A neural network processes our data differently. It attempts to represent our data in different ways and in different dimensions by applying specific operations to transform our data at each layer. Another way to express this is that at each layer our data is transformed in order to learn more about it. By performing these transformations, the model can better understand our data and therefore provide a better prediction. "
      ]
    },
    {
      "cell_type": "markdown",
      "metadata": {
        "id": "6E6VmcVT020n"
      },
      "source": [
        "##How it Works\r\n",
        "Before going into too much detail I will provide a very surface level explination of how neural networks work on a mathematical level. All the terms and concepts I discuss will be defined and explained in more detail below.\r\n",
        "\r\n",
        "On a lower level neural networks are simply a combination of elementry math operations and some more advanced linear algebra. Each neural network consists of a sequence of layers in which data passes through. These layers are made up on neurons and the neurons of one layer are connected to the next (see below). These connections are defined by what we call a weight (some numeric value). Each layer also has something called a bias, this is simply an extra neuron that has no connections and holds a single numeric value. Data starts at the input layer and is trasnformed as it passes through subsequent layers. The data at each subsequent neuron is defined as the following.\r\n",
        "\r\n",
        "> $Y =(\\sum_{i=0}^n w_i x_i) + b$\r\n",
        "\r\n",
        "> $w$ stands for the weight of each connection to the neuron\r\n",
        "\r\n",
        "> $x$ stands for the value of the connected neuron from the previous value\r\n",
        "\r\n",
        "> $b$ stands for the bias at each layer, this is a constant\r\n",
        "\r\n",
        "> $n$ is the number of connections\r\n",
        "\r\n",
        "> $Y$ is the output of the current neuron\r\n",
        "\r\n",
        "> $\\sum$ stands for sum\r\n",
        "\r\n",
        "The equation you just read is called a weighed sum. We will take this weighted sum at each and every neuron as we pass information through the network. Then we will add what's called a bias to this sum. The bias allows us to shift the network up or down by a constant value. It is like the y-intercept of a line.\r\n",
        "\r\n",
        "But that equation is the not complete one! We forgot a crucial part, **the activation function**. This is a function that we apply to the equation seen above to add complexity and dimensionality to our network. Our new equation with the addition of an activation function $F(x)$ is seen below.\r\n",
        "\r\n",
        "> $Y =F((\\sum_{i=0}^n w_i x_i) + b)$\r\n",
        "\r\n",
        "Our network will start with predefined activation functions (they may be different at each layer) but random weights and biases. As we train the network by feeding it data it will learn the correct weights and biases and adjust the network accordingly using a technqiue called **backpropagation** (explained below). Once the correct weights and biases have been learned our network will hopefully be able to give us meaningful predictions. We get these predictions by observing the values at our final layer, the output layer. \r\n",
        "\r\n",
        "\r\n"
      ]
    },
    {
      "cell_type": "markdown",
      "metadata": {
        "id": "RCLabak21O0C"
      },
      "source": [
        "##Breaking Down The Neural Network!\r\n",
        "\r\n",
        "Before we dive into any code lets break down how a neural network works and what it does.\r\n",
        "\r\n",
        "![alt text](http://www.extremetech.com/wp-content/uploads/2015/07/NeuralNetwork.png)"
      ]
    },
    {
      "cell_type": "markdown",
      "metadata": {
        "id": "FBm8cPfO1cwk"
      },
      "source": [
        "###Data\r\n",
        "The type of data a neural network processes varies drastically based on the problem being solved. When we build a neural network, we define what shape and kind of data it can accept. It may sometimes be neccessary to modify our dataset so that it can be passed to our neural network. \r\n",
        "\r\n",
        "Some common types of data a neural network uses are listed below.\r\n",
        "- Vector Data (2D)\r\n",
        "- Timeseries or Sequence (3D)\r\n",
        "- Image Data (4D)\r\n",
        "- Video Data (5D)\r\n",
        "\r\n",
        "There are of course many different types or data, but these are the main categories."
      ]
    },
    {
      "cell_type": "markdown",
      "metadata": {
        "id": "2G_qT-1N1eph"
      },
      "source": [
        "###Layers\r\n",
        "As we mentioned earlier each neural network consists of multiple layers. At each layer a different transformation of data occurs. Our initial input data is fed through the layers and eventually arrives at the output layer where we will obtain the result.\r\n",
        "####Input Layer\r\n",
        "The input layer is the layer that our initial data is passed to. It is the first layer in our neural network.\r\n",
        "####Output Layer\r\n",
        "The output layer is the layer that we will retrive our results from. Once the data has passed through all other layers it will arrive here.\r\n",
        "####Hidden Layer(s)\r\n",
        "All the other layers in our neural network are called \"hidden layers\". This is because they are hidden to us, we cannot observe them. Most neural networks consist of at least one hidden layer but can have an unlimited amount. Typically, the more complex the model the more hidden layers.\r\n",
        "####Neurons\r\n",
        "Each layer is made up of what are called neurons. Neurons have a few different properties that we will discuss later. The important aspect to understand now is that each neuron is responsible for generating/holding/passing ONE numeric value. \r\n",
        "\r\n",
        "This means that in the case of our input layer it will have as many neurons as we have input information. For example, say we want to pass an image that is 28x28 pixels, thats 784 pixels. We would need 784 neurons in our input layer to capture each of these pixels. \r\n",
        "\r\n",
        "This also means that our output layer will have as many neurons as we have output information. The output is a little more complicated to understand so I'll refrain from an example right now but hopefully you're getting the idea.\r\n",
        "\r\n",
        "But what about our hidden layers? Well these have as many neurons as we decide. We'll discuss how we can pick these values later but understand a hidden layer can have any number of neurons.\r\n",
        "####Connected Layers\r\n",
        "So how are all these layers connected? Well the neurons in one layer will be connected to neurons in the subsequent layer. However, the neurons can be connected in a variety of different ways. \r\n",
        "\r\n",
        "Take for example *Figure 1* (look above). Each neuron in one layer is connected to every neuron in the next layer. This is called a **dense** layer. There are many other ways of connecting layers but well discuss those as we see them. \r\n",
        "\r\n"
      ]
    },
    {
      "cell_type": "markdown",
      "metadata": {
        "id": "-TXxfWfS1j1d"
      },
      "source": [
        "###Weights\r\n",
        "Weights are associated with each connection in our neural network. Every pair of connected nodes will have one weight that denotes the strength of the connection between them. These are vital to the inner workings of a neural network and will be tweaked as the neural network is trained. The model will try to determine what these weights should be to achieve the best result. Weights start out at a constant or random value and will change as the network sees training data."
      ]
    },
    {
      "cell_type": "markdown",
      "metadata": {
        "id": "R1ts3JCK1pwV"
      },
      "source": [
        "###Biases\r\n",
        "\r\n",
        "Biases are another important part of neural networks and will also be tweaked as the model is trained. A bias is simply a constant value associated with each layer. It can be thought of as an extra neuron that has no connections. The purpose of a bias is to shift an entire activation function by a constant value. This allows a lot more flexibllity when it comes to choosing an activation and training the network. There is one bias for each layer."
      ]
    },
    {
      "cell_type": "markdown",
      "metadata": {
        "id": "hZHNohZG2zBV"
      },
      "source": [
        "###Activation Function\r\n",
        "Activation functions are simply a function that is applied to the weighed sum of a neuron. They can be anything we want but are typically higher order/degree functions that aim to add a higher dimension to our data. We would want to do this to introduce more comolexity to our model. By transforming our data to a higher dimension, we can typically make better, more complex predictions.\r\n",
        "\r\n",
        "A list of some common activation functions and their graphs can be seen below.\r\n",
        "\r\n",
        "- Relu (Rectified Linear Unit)\r\n",
        "\r\n",
        "![alt text](https://yashuseth.files.wordpress.com/2018/02/relu-function.png?w=309&h=274)\r\n",
        "- Tanh (Hyperbolic Tangent)\r\n",
        "\r\n",
        "![alt text](http://mathworld.wolfram.com/images/interactive/TanhReal.gif)\r\n",
        "- Sigmoid : used to squash the neuron output into [0, 1]\r\n",
        "\r\n",
        "![alt text](https://miro.medium.com/max/970/1*Xu7B5y9gp0iL5ooBj7LtWw.png)\r\n",
        "\r\n"
      ]
    },
    {
      "cell_type": "markdown",
      "metadata": {
        "id": "Zz8TlhdcgcV2"
      },
      "source": [
        "###Backpropagation\r\n",
        "Backpropagation is the fundemental algorithm behind training neural networks. It is what changes the weights and biases of our network. To fully explain this process, we need to start by discussing something called a cost/loss function.\r\n",
        "\r\n",
        "####Loss/Cost Function\r\n",
        "As we now know our neural network feeds information through the layers until it eventually reaches an output layer. This layer contains the results that we look at to determine the prediciton from our network. In the training phase it is likely that our network will make many mistakes and poor predicitions. In fact, at the start of training our network doesn't know anything (it has random weights and biases)! \r\n",
        "\r\n",
        "We need some way of evaluating if the network is doing well and how well it is doing. For our training data we have the features (input) and the labels (expected output), because of this we can compare the output from our network to the expected output. Based on the difference between these values we can determine if our network has done a good job or poor job. If the network has done a good job, we'll make minor changes to the weights and biases. If it has done a poor job our changes may be more drastic.\r\n",
        "\r\n",
        "So, this is where the cost/loss function comes in. This function is responsible for determining how well the network did. We pass it the output and the expected output, and it returns to us some value representing the cost/loss of the network. This effectively makes the networks job to optimize this cost function, trying to make it as low as possible. \r\n",
        "\r\n",
        "Some common loss/cost functions include.\r\n",
        "- Mean Squared Error\r\n",
        "- Mean Absolute Error\r\n",
        "- Hinge Loss\r\n",
        "\r\n",
        "####Gradient Descent\r\n",
        "Gradient descent and backpropagation are closely related. Gradient descent is the algorithm used to find the optimal paramaters (weights and biases) for our network, while backpropagation is the process of calculating the gradient that is used in the gradient descent step. \r\n",
        "\r\n",
        "Gradient descent requires some pretty advanced calculus and linear algebra to understand so we'll stay away from that for now. Let's just read the formal definition for now.\r\n",
        "\r\n",
        "\"Gradient descent is an optimization algorithm used to minimize some function by iteratively moving in the direction of steepest descent as defined by the negative of the gradient. In machine learning, we use gradient descent to update the parameters of our model.\" (https://ml-cheatsheet.readthedocs.io/en/latest/gradient_descent.html)\r\n",
        "\r\n",
        "And that's all we really need to know for now. I'll direct you to the video for a more in depth explination.\r\n",
        "\r\n",
        "![alt text](https://cdn-images-1.medium.com/max/1000/1*iU1QCnSTKrDjIPjSAENLuQ.png)\r\n",
        "\r\n"
      ]
    },
    {
      "cell_type": "markdown",
      "metadata": {
        "id": "3cTeMkBzHyFa"
      },
      "source": [
        "###Optimizer\r\n",
        "You may sometimes see the term optimizer or optimization function. This is simply the function that implements the backpropagation algorithm described above. Here's a list of a few common ones.\r\n",
        "- Gradient Descent\r\n",
        "- Stochastic Gradient Descent\r\n",
        "- Mini-Batch Gradient Descent\r\n",
        "- Momentum\r\n",
        "- Nesterov Accelerated Gradient\r\n",
        "\r\n",
        "*This article explains them quite well is where I've pulled this list from.*\r\n",
        "\r\n",
        "(https://medium.com/@sdoshi579/optimizers-for-training-neural-network-59450d71caf6)"
      ]
    },
    {
      "cell_type": "markdown",
      "metadata": {
        "id": "KFLRG4rbIGWr"
      },
      "source": [
        "##Creating a Neural Network\r\n",
        "Okay now you have reached the exciting part of this tutorial! No more math and complex explinations. Time to get hands on and train a very basic neural network.\r\n",
        "\r\n",
        "*As stated earlier this guide is based off of the following TensorFlow tutorial.*\r\n",
        "https://www.tensorflow.org/tutorials/keras/classification\r\n"
      ]
    },
    {
      "cell_type": "markdown",
      "metadata": {
        "id": "i0eJof-BILMD"
      },
      "source": [
        "###Imports"
      ]
    },
    {
      "cell_type": "code",
      "metadata": {
        "id": "y8t_EdO8jEHz",
        "colab": {
          "base_uri": "https://localhost:8080/"
        },
        "outputId": "ae888cc7-f3d1-47ba-8b5b-d0119cbccf4c"
      },
      "source": [
        "%tensorflow_version 2.x  \n",
        "# TensorFlow and tf.keras\n",
        "import tensorflow as tf\n",
        "from tensorflow import keras\n",
        "\n",
        "# Helper libraries\n",
        "import numpy as np\n",
        "import matplotlib.pyplot as plt"
      ],
      "execution_count": 1,
      "outputs": [
        {
          "output_type": "stream",
          "text": [
            "`%tensorflow_version` only switches the major version: 1.x or 2.x.\n",
            "You set: `2.x  # this line is not required unless you are in a notebook`. This will be interpreted as: `2.x`.\n",
            "\n",
            "\n",
            "TensorFlow 2.x selected.\n"
          ],
          "name": "stdout"
        }
      ]
    },
    {
      "cell_type": "markdown",
      "metadata": {
        "id": "qOqA0bjomnTU"
      },
      "source": [
        "###Dataset\r\n",
        "Here, we used the MNIST Fashion Dataset. This is a dataset that is included in keras.\r\n",
        "\r\n",
        "This dataset includes 60,000 images for training and 10,000 images for validation/testing."
      ]
    },
    {
      "cell_type": "code",
      "metadata": {
        "colab": {
          "base_uri": "https://localhost:8080/"
        },
        "id": "y7q5E0UnsB_g",
        "outputId": "aa1aba4c-7839-40c9-fe83-69e7ace0a1ff"
      },
      "source": [
        "fashion_mnist = keras.datasets.fashion_mnist  # load dataset\r\n",
        "\r\n",
        "(train_images, train_labels), (test_images, test_labels) = fashion_mnist.load_data()  # split into tetsing and training"
      ],
      "execution_count": 2,
      "outputs": [
        {
          "output_type": "stream",
          "text": [
            "Downloading data from https://storage.googleapis.com/tensorflow/tf-keras-datasets/train-labels-idx1-ubyte.gz\n",
            "32768/29515 [=================================] - 0s 0us/step\n",
            "Downloading data from https://storage.googleapis.com/tensorflow/tf-keras-datasets/train-images-idx3-ubyte.gz\n",
            "26427392/26421880 [==============================] - 0s 0us/step\n",
            "Downloading data from https://storage.googleapis.com/tensorflow/tf-keras-datasets/t10k-labels-idx1-ubyte.gz\n",
            "8192/5148 [===============================================] - 0s 0us/step\n",
            "Downloading data from https://storage.googleapis.com/tensorflow/tf-keras-datasets/t10k-images-idx3-ubyte.gz\n",
            "4423680/4422102 [==============================] - 0s 0us/step\n"
          ],
          "name": "stdout"
        }
      ]
    },
    {
      "cell_type": "code",
      "metadata": {
        "colab": {
          "base_uri": "https://localhost:8080/"
        },
        "id": "bD1w32g7sKHs",
        "outputId": "f0a22a0b-9fec-4f1e-83d6-1a3c47d76718"
      },
      "source": [
        "train_images.shape"
      ],
      "execution_count": 3,
      "outputs": [
        {
          "output_type": "execute_result",
          "data": {
            "text/plain": [
              "(60000, 28, 28)"
            ]
          },
          "metadata": {
            "tags": []
          },
          "execution_count": 3
        }
      ]
    },
    {
      "cell_type": "markdown",
      "metadata": {
        "id": "b8rUMHsvsRtB"
      },
      "source": [
        "So we've got 60,000 images that are made up of 28x28 pixels (784 in total)."
      ]
    },
    {
      "cell_type": "code",
      "metadata": {
        "colab": {
          "base_uri": "https://localhost:8080/"
        },
        "id": "Gwiz-lbhsdaj",
        "outputId": "44d8060c-4114-416a-c12d-98034ab62e5d"
      },
      "source": [
        "train_images[0,23,23]"
      ],
      "execution_count": 4,
      "outputs": [
        {
          "output_type": "execute_result",
          "data": {
            "text/plain": [
              "194"
            ]
          },
          "metadata": {
            "tags": []
          },
          "execution_count": 4
        }
      ]
    },
    {
      "cell_type": "markdown",
      "metadata": {
        "id": "MvADNYR2sldL"
      },
      "source": [
        "Our pixel values are between 0 and 255, 0 being black and 255 being white. This means we have a grayscale image as there are no color channels."
      ]
    },
    {
      "cell_type": "code",
      "metadata": {
        "colab": {
          "base_uri": "https://localhost:8080/"
        },
        "id": "fI0LgXPasvAG",
        "outputId": "eaf23cbd-163f-4050-ff18-844ec16e4d7a"
      },
      "source": [
        "train_labels[:10]"
      ],
      "execution_count": 5,
      "outputs": [
        {
          "output_type": "execute_result",
          "data": {
            "text/plain": [
              "array([9, 0, 0, 3, 0, 2, 7, 2, 5, 5], dtype=uint8)"
            ]
          },
          "metadata": {
            "tags": []
          },
          "execution_count": 5
        }
      ]
    },
    {
      "cell_type": "markdown",
      "metadata": {
        "id": "zHdILp_zs4G9"
      },
      "source": [
        "Our labels are integers ranging from 0 - 9. Each integer represents a specific article of clothing. We'll create an array of label names to indicate which is which."
      ]
    },
    {
      "cell_type": "code",
      "metadata": {
        "id": "i5wCr4EOs5BA"
      },
      "source": [
        "class_names = ['T-shirt/top', 'Trouser', 'Pullover', 'Dress', 'Coat',\r\n",
        "               'Sandal', 'Shirt', 'Sneaker', 'Bag', 'Ankle boot']"
      ],
      "execution_count": 6,
      "outputs": []
    },
    {
      "cell_type": "code",
      "metadata": {
        "colab": {
          "base_uri": "https://localhost:8080/",
          "height": 265
        },
        "id": "qNJj0kvVxh9u",
        "outputId": "b40197b8-bcf2-41e9-a633-719235a3890f"
      },
      "source": [
        "plt.figure()\r\n",
        "plt.imshow(train_images[1])\r\n",
        "plt.colorbar()\r\n",
        "plt.grid(False) #In default grid is in False state\r\n",
        "plt.show()"
      ],
      "execution_count": 18,
      "outputs": [
        {
          "output_type": "display_data",
          "data": {
            "image/png": "[encoded data removed]",
            "text/plain": [
              "<Figure size 432x288 with 2 Axes>"
            ]
          },
          "metadata": {
            "tags": [],
            "needs_background": "light"
          }
        }
      ]
    },
    {
      "cell_type": "markdown",
      "metadata": {
        "id": "DS9uePp9yCFR"
      },
      "source": [
        "##Data Preprocessing\r\n",
        "The last step before creating our model is to *preprocess* our data. This simply means applying some prior transformations to our data before feeding it the model. In this case we will simply scale all our greyscale pixel values (0-255) to be between 0 and 1. We can do this by dividing each value in the training and testing sets by 255.0. We do this because smaller values will make it easier for the model to process our values. \r\n",
        "\r\n"
      ]
    },
    {
      "cell_type": "code",
      "metadata": {
        "id": "zuNKLeggyHnp"
      },
      "source": [
        "train_images = train_images / 255.0\r\n",
        "\r\n",
        "test_images = test_images / 255.0"
      ],
      "execution_count": 21,
      "outputs": []
    },
    {
      "cell_type": "markdown",
      "metadata": {
        "id": "2xjbimLCyMJp"
      },
      "source": [
        "##Building the Model\r\n",
        "Now it's time to build the model! We are going to use a keras *sequential* model with three different layers. This model represents a feed-forward neural network (one that passes values from left to right). We'll break down each layer and its architecture below."
      ]
    },
    {
      "cell_type": "code",
      "metadata": {
        "id": "qPWcrKMjxjvg"
      },
      "source": [
        "model = keras.Sequential([\r\n",
        "    keras.layers.Flatten(input_shape=(28, 28)),  # input layer (1)\r\n",
        "    keras.layers.Dense(128, activation='relu'),  # hidden layer (2)\r\n",
        "    keras.layers.Dense(10, activation='softmax') # output layer (3)\r\n",
        "])"
      ],
      "execution_count": 22,
      "outputs": []
    },
    {
      "cell_type": "markdown",
      "metadata": {
        "id": "HlioNcYIygQY"
      },
      "source": [
        "**Layer 1:** This is our input layer and it will conist of 784 neurons. We use the flatten layer with an input shape of (28,28) to denote that our input should come in in that shape. The flatten means that our layer will reshape the shape (28,28) array into a vector of 784 neurons so that each pixel will be associated with one neuron.\r\n",
        "\r\n",
        "**Layer 2:** This is our first and only hidden layer. The *dense* denotes that this layer will be fully connected and each neuron from the previous layer connects to each neuron of this layer. It has 128 neurons and uses the rectify linear unit activation function.\r\n",
        "\r\n",
        "**Layer 3:** This is our output later and is also a dense layer. It has 10 neurons that we will look at to determine our models output. Each neuron represnts the probabillity of a given image being one of the 10 different classes. The activation function *softmax* is used on this layer to calculate a probabillity distribution for each class. This means the value of any neuron in this layer will be between 0 and 1, where 1 represents a high probabillity of the image being that class."
      ]
    },
    {
      "cell_type": "markdown",
      "metadata": {
        "id": "DE_81EByyoBT"
      },
      "source": [
        "###Compile the Model\r\n",
        "The last step in building the model is to define the loss function, optimizer and metrics we would like to track. I won't go into detail about why we chose each of these right now."
      ]
    },
    {
      "cell_type": "code",
      "metadata": {
        "id": "Ch6XHUXaypYl"
      },
      "source": [
        "model.compile(optimizer='adam',\r\n",
        "              loss='sparse_categorical_crossentropy',\r\n",
        "              metrics=['accuracy'])"
      ],
      "execution_count": 23,
      "outputs": []
    },
    {
      "cell_type": "markdown",
      "metadata": {
        "id": "eMI-fglv17Rb"
      },
      "source": [
        "##Training the Model\r\n",
        "Now it's finally time to train the model. Since we've already done all the work on our data this step is as easy as calling a single method."
      ]
    },
    {
      "cell_type": "code",
      "metadata": {
        "colab": {
          "base_uri": "https://localhost:8080/"
        },
        "id": "r1fBzfPi19W2",
        "outputId": "ed1141cc-2628-4f74-983a-601efd0e708e"
      },
      "source": [
        "model.fit(train_images, train_labels, epochs=10) "
      ],
      "execution_count": 24,
      "outputs": [
        {
          "output_type": "stream",
          "text": [
            "Epoch 1/10\n",
            "1875/1875 [==============================] - 4s 2ms/step - loss: 1.5152 - accuracy: 0.5400\n",
            "Epoch 2/10\n",
            "1875/1875 [==============================] - 4s 2ms/step - loss: 0.6762 - accuracy: 0.7611\n",
            "Epoch 3/10\n",
            "1875/1875 [==============================] - 4s 2ms/step - loss: 0.5879 - accuracy: 0.7903\n",
            "Epoch 4/10\n",
            "1875/1875 [==============================] - 4s 2ms/step - loss: 0.5346 - accuracy: 0.8119\n",
            "Epoch 5/10\n",
            "1875/1875 [==============================] - 4s 2ms/step - loss: 0.5060 - accuracy: 0.8229\n",
            "Epoch 6/10\n",
            "1875/1875 [==============================] - 4s 2ms/step - loss: 0.4836 - accuracy: 0.8301\n",
            "Epoch 7/10\n",
            "1875/1875 [==============================] - 4s 2ms/step - loss: 0.4665 - accuracy: 0.8370\n",
            "Epoch 8/10\n",
            "1875/1875 [==============================] - 4s 2ms/step - loss: 0.4552 - accuracy: 0.8401\n",
            "Epoch 9/10\n",
            "1875/1875 [==============================] - 4s 2ms/step - loss: 0.4434 - accuracy: 0.8433\n",
            "Epoch 10/10\n",
            "1875/1875 [==============================] - 4s 2ms/step - loss: 0.4421 - accuracy: 0.8439\n"
          ],
          "name": "stdout"
        },
        {
          "output_type": "execute_result",
          "data": {
            "text/plain": [
              "<tensorflow.python.keras.callbacks.History at 0x7fae4ce75240>"
            ]
          },
          "metadata": {
            "tags": []
          },
          "execution_count": 24
        }
      ]
    },
    {
      "cell_type": "markdown",
      "metadata": {
        "id": "CJT_xilO3wC9"
      },
      "source": [
        "##Evaluating the Model\r\n",
        "It's time to test/evaluate the model. We can do this quite easily using another builtin method from keras.\r\n",
        "\r\n",
        "The *verbose* argument is defined from the keras documentation as:\r\n",
        "\"verbose: 0 or 1. Verbosity mode. 0 = silent, 1 = progress bar.\"\r\n",
        "(https://keras.io/models/sequential/)"
      ]
    },
    {
      "cell_type": "code",
      "metadata": {
        "colab": {
          "base_uri": "https://localhost:8080/"
        },
        "id": "qYM5J0AI3tyl",
        "outputId": "1b521d45-7dbf-4923-cf05-32896865fa7b"
      },
      "source": [
        "test_loss, test_acc = model.evaluate(test_images,  test_labels, verbose=1) \r\n",
        "\r\n",
        "print('Test accuracy:', test_acc)"
      ],
      "execution_count": 30,
      "outputs": [
        {
          "output_type": "stream",
          "text": [
            "313/313 [==============================] - 0s 1ms/step - loss: 0.4675 - accuracy: 0.8325\n",
            "Test accuracy: 0.8324999809265137\n"
          ],
          "name": "stdout"
        }
      ]
    },
    {
      "cell_type": "markdown",
      "metadata": {
        "id": "fIN94hn939UL"
      },
      "source": [
        "You'll likely notice that the accuracy here is lower than when training the model. This difference is reffered to as **overfitting**.\r\n",
        "\r\n",
        "And now we have a trained model that's ready to use to predict some values!"
      ]
    },
    {
      "cell_type": "markdown",
      "metadata": {
        "id": "2gWihOWE3-2i"
      },
      "source": [
        "##Making Predictions\r\n",
        "To make predictions we simply need to pass an array of data in the form we've specified in the input layer to ```.predict()``` method."
      ]
    },
    {
      "cell_type": "code",
      "metadata": {
        "id": "KiZ9Z5Uh4EB2"
      },
      "source": [
        "predictions = model.predict(test_images)"
      ],
      "execution_count": 26,
      "outputs": []
    },
    {
      "cell_type": "markdown",
      "metadata": {
        "id": "Ml9DnhgE4Lox"
      },
      "source": [
        "This method returns to us an array of predictions for each image we passed it. Let's have a look at the predictions for image 1."
      ]
    },
    {
      "cell_type": "code",
      "metadata": {
        "colab": {
          "base_uri": "https://localhost:8080/",
          "height": 282
        },
        "id": "uOq-L67HPFHM",
        "outputId": "adcd7cd1-bd82-46c7-e7df-3259a5358a49"
      },
      "source": [
        "predictions = model.predict(test_images)\r\n",
        "print(class_names[np.argmax(predictions[0])])\r\n",
        "plt.figure()\r\n",
        "plt.imshow(test_images[0])\r\n",
        "plt.colorbar()\r\n",
        "plt.show()"
      ],
      "execution_count": 31,
      "outputs": [
        {
          "output_type": "stream",
          "text": [
            "Ankle boot\n"
          ],
          "name": "stdout"
        },
        {
          "output_type": "display_data",
          "data": {
            "image/png": "[encoded data removed]",
            "text/plain": [
              "<Figure size 432x288 with 2 Axes>"
            ]
          },
          "metadata": {
            "tags": [],
            "needs_background": "light"
          }
        }
      ]
    },
    {
      "cell_type": "code",
      "metadata": {
        "colab": {
          "base_uri": "https://localhost:8080/"
        },
        "id": "7xsMUC144Ksx",
        "outputId": "f66e1823-8878-450d-d339-029c3e1f9e7c"
      },
      "source": [
        "predictions[0]"
      ],
      "execution_count": 27,
      "outputs": [
        {
          "output_type": "execute_result",
          "data": {
            "text/plain": [
              "array([2.3897957e-07, 9.0625436e-09, 2.4270928e-06, 3.6128347e-06,\n",
              "       8.1526505e-06, 1.0630623e-01, 1.0974190e-05, 3.8243902e-01,\n",
              "       3.3492651e-03, 5.0788009e-01], dtype=float32)"
            ]
          },
          "metadata": {
            "tags": []
          },
          "execution_count": 27
        }
      ]
    },
    {
      "cell_type": "markdown",
      "metadata": {
        "id": "q4Vcbixg6xof"
      },
      "source": [
        "If we wan't to get the value with the highest score we can use a useful function from numpy called ```argmax()```. This simply returns the index of the maximium value from a numpy array. "
      ]
    },
    {
      "cell_type": "code",
      "metadata": {
        "colab": {
          "base_uri": "https://localhost:8080/"
        },
        "id": "dHo5iORf6zjA",
        "outputId": "9e3d2ef1-2038-4988-d45f-59b5d7d8f7dc"
      },
      "source": [
        "np.argmax(predictions[0])"
      ],
      "execution_count": 28,
      "outputs": [
        {
          "output_type": "execute_result",
          "data": {
            "text/plain": [
              "9"
            ]
          },
          "metadata": {
            "tags": []
          },
          "execution_count": 28
        }
      ]
    },
    {
      "cell_type": "markdown",
      "metadata": {
        "id": "EHUD4aye67s5"
      },
      "source": [
        "And we can check if this is correct by looking at the value of the cooresponding test label."
      ]
    },
    {
      "cell_type": "code",
      "metadata": {
        "colab": {
          "base_uri": "https://localhost:8080/"
        },
        "id": "1ZD5ywUU7Jup",
        "outputId": "a9122d59-7754-434a-e1ef-4e6c41802397"
      },
      "source": [
        "test_labels[0]"
      ],
      "execution_count": 29,
      "outputs": [
        {
          "output_type": "execute_result",
          "data": {
            "text/plain": [
              "9"
            ]
          },
          "metadata": {
            "tags": []
          },
          "execution_count": 29
        }
      ]
    },
    {
      "cell_type": "markdown",
      "metadata": {
        "id": "zp2VYwGr7N3x"
      },
      "source": [
        "##Verifying Predictions\r\n",
        "I've written a small function here to help us verify predictions with some simple visuals."
      ]
    },
    {
      "cell_type": "code",
      "metadata": {
        "id": "UniGdBgj7RdG"
      },
      "source": [
        "COLOR = 'white'\r\n",
        "plt.rcParams['text.color'] = COLOR\r\n",
        "plt.rcParams['axes.labelcolor'] = COLOR\r\n",
        "\r\n",
        "def predict(model, image, correct_label):\r\n",
        "  class_names = ['T-shirt/top', 'Trouser', 'Pullover', 'Dress', 'Coat',\r\n",
        "               'Sandal', 'Shirt', 'Sneaker', 'Bag', 'Ankle boot']\r\n",
        "  prediction = model.predict(np.array([image]))\r\n",
        "  predicted_class = class_names[np.argmax(prediction)]\r\n",
        "\r\n",
        "  show_image(image, class_names[correct_label], predicted_class)\r\n",
        "\r\n",
        "\r\n",
        "def show_image(img, label, guess):\r\n",
        "  plt.figure()\r\n",
        "  plt.imshow(img, cmap=plt.cm.binary)\r\n",
        "  plt.title(\"Excpected: \" + label)\r\n",
        "  plt.xlabel(\"Guess: \" + guess)\r\n",
        "  plt.colorbar()\r\n",
        "  plt.grid(False)\r\n",
        "  plt.show()\r\n",
        "\r\n",
        "\r\n",
        "def get_number():\r\n",
        "  while True:\r\n",
        "    num = input(\"Pick a number: \")\r\n",
        "    if num.isdigit():\r\n",
        "      num = int(num)\r\n",
        "      if 0 <= num <= 1000:\r\n",
        "        return int(num)\r\n",
        "    else:\r\n",
        "      print(\"Try again...\")\r\n",
        "\r\n",
        "num = get_number()\r\n",
        "image = test_images[num]\r\n",
        "label = test_labels[num]\r\n",
        "predict(model, image, label)\r\n"
      ],
      "execution_count": null,
      "outputs": []
    }
  ]
}